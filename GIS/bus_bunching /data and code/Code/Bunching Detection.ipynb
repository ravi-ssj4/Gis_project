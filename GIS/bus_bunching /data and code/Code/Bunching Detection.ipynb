{
 "cells": [
  {
   "cell_type": "code",
   "execution_count": 2,
   "metadata": {
    "collapsed": true
   },
   "outputs": [],
   "source": [
    "import pandas as pd\n",
    "import json\n",
    "from geopy.distance import vincenty"
   ]
  },
  {
   "cell_type": "code",
   "execution_count": 3,
   "metadata": {
    "collapsed": false
   },
   "outputs": [],
   "source": [
    "#pd.set_option('display.max_rows', len(df))"
   ]
  },
  {
   "cell_type": "code",
   "execution_count": 4,
   "metadata": {
    "collapsed": true
   },
   "outputs": [],
   "source": [
    "routes = {'k4':1,'g3':2}"
   ]
  },
  {
   "cell_type": "code",
   "execution_count": 72,
   "metadata": {
    "collapsed": true
   },
   "outputs": [],
   "source": [
    "name = \"_k4_june_14\""
   ]
  },
  {
   "cell_type": "code",
   "execution_count": null,
   "metadata": {
    "collapsed": true
   },
   "outputs": [],
   "source": [
    "#Convert hours into minute"
   ]
  },
  {
   "cell_type": "code",
   "execution_count": 73,
   "metadata": {
    "collapsed": true
   },
   "outputs": [],
   "source": [
    "def get_hour_min(x):\n",
    "    from datetime import datetime\n",
    "    date_obj = datetime.strptime(x, '%H:%M:%S')\n",
    "    \n",
    "    #date = date_obj.strftime(\"%H:%M\")\n",
    "    return date_obj.hour * 60 +date_obj.minute"
   ]
  },
  {
   "cell_type": "code",
   "execution_count": null,
   "metadata": {
    "collapsed": true
   },
   "outputs": [],
   "source": [
    "#remove duplicates record for same bus stop and bus"
   ]
  },
  {
   "cell_type": "code",
   "execution_count": 74,
   "metadata": {
    "collapsed": true
   },
   "outputs": [],
   "source": [
    "def remove_duplicates(df):\n",
    "    unique_data = pd.DataFrame()\n",
    "    bus_stop = df.iloc[0]['bus_stop']\n",
    "    bus = df.iloc[0]['device_id']\n",
    "    #time = df.iloc[0]['date_time']\n",
    "    unique_data = unique_data.append( df.iloc[0])\n",
    "    for index,row in df.iterrows():\n",
    "        if(bus_stop==row['bus_stop'] and bus==row['device_id']):\n",
    "            continue\n",
    "        else:\n",
    "            unique_data = unique_data.append(row)\n",
    "            bus_stop = row['bus_stop']\n",
    "            bus = row['device_id']\n",
    "            #time = row['date_time']\n",
    "    return unique_data"
   ]
  },
  {
   "cell_type": "code",
   "execution_count": 1,
   "metadata": {
    "collapsed": true
   },
   "outputs": [],
   "source": [
    "#separate data into into two group (up and down direction)"
   ]
  },
  {
   "cell_type": "code",
   "execution_count": 75,
   "metadata": {
    "collapsed": false
   },
   "outputs": [],
   "source": [
    "def separate_dir(df):\n",
    "    up_data = pd.DataFrame()\n",
    "    down_data = pd.DataFrame()\n",
    "    previous_bus_stop=df.iloc[0]['bus_stop']\n",
    "    previous_bus = df.iloc[0]['device_id']\n",
    "    if(previous_bus_stop>=len(b_stops)//4):\n",
    "        up = False\n",
    "        #df.iloc[0]['status']=0\n",
    "    else:\n",
    "        up = True\n",
    "        #df = df.iloc[0]['status']=1\n",
    "        \n",
    "     \n",
    "    for index,row in df.iterrows():\n",
    "        current_bus_stop = row['bus_stop']\n",
    "        current_bus = row['device_id']\n",
    "        if(previous_bus!=current_bus):\n",
    "            previous_bus_stop=row['bus_stop']\n",
    "            previous_bus = row['device_id']\n",
    "            if(previous_bus_stop>=len(b_stops)//4):\n",
    "                up = False\n",
    "        \n",
    "            else:\n",
    "                up = True\n",
    "            \n",
    "        \n",
    "            \n",
    "        if up:\n",
    "            if(previous_bus_stop<=current_bus_stop):\n",
    "                \n",
    "                up_data=up_data.append(row)\n",
    "            else:\n",
    "                up = False\n",
    "                \n",
    "                down_data = down_data.append(row)\n",
    "                \n",
    "        else:\n",
    "            if(previous_bus_stop>=current_bus_stop):\n",
    "                \n",
    "                down_data =down_data.append(row)\n",
    "            else:\n",
    "                up = True\n",
    "                \n",
    "                up_data =up_data.append(row)\n",
    "        \n",
    "        previous_bus_stop = current_bus_stop    \n",
    "        \n",
    "            \n",
    "    \n",
    "    return up_data,down_data       "
   ]
  },
  {
   "cell_type": "code",
   "execution_count": 2,
   "metadata": {
    "collapsed": true
   },
   "outputs": [],
   "source": [
    "# create training data for regression model"
   ]
  },
  {
   "cell_type": "code",
   "execution_count": 76,
   "metadata": {
    "collapsed": false
   },
   "outputs": [],
   "source": [
    "def create_pair(df,UP):\n",
    "    pairs = pd.DataFrame()\n",
    "    for i in range(df.shape[0]-1):\n",
    "        prev = df.iloc[i]['bus_stop']\n",
    "        current = df.iloc[i+1]['bus_stop']\n",
    "        j=i+1\n",
    "        \n",
    "        if(UP==True):\n",
    "            while current>prev and j<df.shape[0]:\n",
    "                s = df.iloc[i]['bus_stop']\n",
    "                d = df.iloc[j]['bus_stop']\n",
    "                start_time = df.iloc[i]['date_time']\n",
    "                route_id = df.iloc[i]['route_id']\n",
    "                weekday = df.iloc[i]['weekday']\n",
    "                travel_time= df.iloc[j]['date_time']-df.iloc[i]['date_time']\n",
    "                record = pd.Series({'s':s,'d':d,'start_time':start_time,'route_id':route_id,'weekday':weekday,'travel_time':travel_time})\n",
    "                #print(record)\n",
    "                pairs = pairs.append(record,ignore_index=True)\n",
    "                #print(df.iloc[i]['bus_stop'],df.iloc[j]['bus_stop'])\n",
    "                j=j+1\n",
    "                if(j<df.shape[0]-1):\n",
    "                    prev = current\n",
    "                    current = df.iloc[j+1]['bus_stop']\n",
    "            if(j<df.shape[0]):\n",
    "                if(df.iloc[i]['bus_stop'] < df.iloc[j]['bus_stop']):\n",
    "                    record = pd.Series({'s':s,'d':d,'start_time':start_time,'route_id':route_id,'weekday':weekday,'travel_time':travel_time})\n",
    "                    #print(df.iloc[i]['bus_stop'],df.iloc[j]['bus_stop'])\n",
    "                    pairs = pairs.append(record,ignore_index=True)\n",
    "        else:\n",
    "            while current<prev and j<df.shape[0]:\n",
    "                s = df.iloc[i]['bus_stop']\n",
    "                d = df.iloc[j]['bus_stop']\n",
    "                start_time = df.iloc[i]['date_time']\n",
    "                route_id = df.iloc[i]['route_id']\n",
    "                weekday = df.iloc[i]['weekday']\n",
    "                travel_time= df.iloc[j]['date_time']-df.iloc[i]['date_time']\n",
    "                record = pd.Series({'s':s,'d':d,'start_time':start_time,'route_id':route_id,'weekday':weekday,'travel_time':travel_time})\n",
    "                #print(record)\n",
    "                pairs = pairs.append(record,ignore_index=True)\n",
    "                #print(df.iloc[i]['bus_stop'],df.iloc[j]['bus_stop'])\n",
    "                j=j+1\n",
    "                if(j<df.shape[0]-1):\n",
    "                    prev = current\n",
    "                    current = df.iloc[j+1]['bus_stop']\n",
    "            if(j<df.shape[0]):\n",
    "                if(df.iloc[i]['bus_stop'] > df.iloc[j]['bus_stop']):\n",
    "                    record = pd.Series({'s':s,'d':d,'start_time':start_time,'route_id':route_id,'weekday':weekday,'travel_time':travel_time})\n",
    "                    #print(df.iloc[i]['bus_stop'],df.iloc[j]['bus_stop'])\n",
    "                    pairs = pairs.append(record,ignore_index=True)\n",
    "    return  pairs    \n",
    "        \n",
    "    "
   ]
  },
  {
   "cell_type": "code",
   "execution_count": null,
   "metadata": {
    "collapsed": true
   },
   "outputs": [],
   "source": [
    "#append all data frame to create single data frame"
   ]
  },
  {
   "cell_type": "code",
   "execution_count": 77,
   "metadata": {
    "collapsed": true
   },
   "outputs": [],
   "source": [
    "def appenddata(s_lat,s_long,df,n,data):\n",
    "    for index,line in data.iterrows():\n",
    "        dist = vincenty((s_lat,s_long),(line['lat'],line['long'])).meters\n",
    "        if dist < 50:\n",
    "            line['b_distance']=dist\n",
    "            line['bus_stop']=n\n",
    "            df= df.append(line)        \n",
    "        else:\n",
    "            continue\n",
    "    return df"
   ]
  },
  {
   "cell_type": "code",
   "execution_count": 78,
   "metadata": {
    "collapsed": true
   },
   "outputs": [],
   "source": [
    "with open('../K-4/june2_thursday/devices.txt') as file:\n",
    "    devices = json.load(file)"
   ]
  },
  {
   "cell_type": "code",
   "execution_count": 79,
   "metadata": {
    "collapsed": false
   },
   "outputs": [
    {
     "data": {
      "text/plain": [
       "[150221241,\n",
       " 150811705,\n",
       " 150811496,\n",
       " 150218048,\n",
       " 150221473,\n",
       " 150810425,\n",
       " 150218772,\n",
       " 150810849]"
      ]
     },
     "execution_count": 79,
     "metadata": {},
     "output_type": "execute_result"
    }
   ],
   "source": [
    "devices"
   ]
  },
  {
   "cell_type": "code",
   "execution_count": 80,
   "metadata": {
    "collapsed": true
   },
   "outputs": [],
   "source": [
    "all_data = pd.DataFrame()"
   ]
  },
  {
   "cell_type": "code",
   "execution_count": 81,
   "metadata": {
    "collapsed": true
   },
   "outputs": [],
   "source": [
    "for d in devices:\n",
    "    name = 'd_'+str(d)\n",
    "    d_data = pd.read_csv('../K-4/june2_thursday/'+name)\n",
    "    all_data = all_data.append(d_data)"
   ]
  },
  {
   "cell_type": "code",
   "execution_count": 82,
   "metadata": {
    "collapsed": false
   },
   "outputs": [],
   "source": [
    "all_data.to_csv('all_data')"
   ]
  },
  {
   "cell_type": "code",
   "execution_count": 83,
   "metadata": {
    "collapsed": false
   },
   "outputs": [],
   "source": [
    "with open('../K-4/june2_thursday/b_stops.txt') as file:\n",
    "    b_stops = json.load(file)\n",
    "    "
   ]
  },
  {
   "cell_type": "code",
   "execution_count": 84,
   "metadata": {
    "collapsed": true
   },
   "outputs": [],
   "source": [
    "all_data = pd.read_csv('2016-06-14')"
   ]
  },
  {
   "cell_type": "code",
   "execution_count": 85,
   "metadata": {
    "collapsed": false
   },
   "outputs": [
    {
     "data": {
      "text/html": [
       "<div>\n",
       "<table border=\"1\" class=\"dataframe\">\n",
       "  <thead>\n",
       "    <tr style=\"text-align: right;\">\n",
       "      <th></th>\n",
       "      <th>Unnamed: 0</th>\n",
       "      <th>device_id</th>\n",
       "      <th>date_time</th>\n",
       "      <th>lat</th>\n",
       "      <th>long</th>\n",
       "      <th>real_time</th>\n",
       "    </tr>\n",
       "  </thead>\n",
       "  <tbody>\n",
       "    <tr>\n",
       "      <th>0</th>\n",
       "      <td>205454</td>\n",
       "      <td>150810425</td>\n",
       "      <td>2016-06-14 07:54:44</td>\n",
       "      <td>12.985648</td>\n",
       "      <td>77.664009</td>\n",
       "      <td>2016-06-14 07:54:44</td>\n",
       "    </tr>\n",
       "    <tr>\n",
       "      <th>1</th>\n",
       "      <td>205455</td>\n",
       "      <td>150810425</td>\n",
       "      <td>2016-06-14 07:54:54</td>\n",
       "      <td>12.985648</td>\n",
       "      <td>77.664009</td>\n",
       "      <td>2016-06-14 07:54:54</td>\n",
       "    </tr>\n",
       "    <tr>\n",
       "      <th>2</th>\n",
       "      <td>205456</td>\n",
       "      <td>150221473</td>\n",
       "      <td>2016-06-14 07:55:02</td>\n",
       "      <td>12.980518</td>\n",
       "      <td>77.512222</td>\n",
       "      <td>2016-06-14 07:55:02</td>\n",
       "    </tr>\n",
       "    <tr>\n",
       "      <th>3</th>\n",
       "      <td>205457</td>\n",
       "      <td>150219191</td>\n",
       "      <td>2016-06-14 07:55:03</td>\n",
       "      <td>12.966298</td>\n",
       "      <td>77.606979</td>\n",
       "      <td>2016-06-14 07:55:03</td>\n",
       "    </tr>\n",
       "    <tr>\n",
       "      <th>4</th>\n",
       "      <td>205458</td>\n",
       "      <td>150810425</td>\n",
       "      <td>2016-06-14 07:55:04</td>\n",
       "      <td>12.985648</td>\n",
       "      <td>77.664009</td>\n",
       "      <td>2016-06-14 07:55:04</td>\n",
       "    </tr>\n",
       "  </tbody>\n",
       "</table>\n",
       "</div>"
      ],
      "text/plain": [
       "   Unnamed: 0  device_id            date_time        lat       long  \\\n",
       "0      205454  150810425  2016-06-14 07:54:44  12.985648  77.664009   \n",
       "1      205455  150810425  2016-06-14 07:54:54  12.985648  77.664009   \n",
       "2      205456  150221473  2016-06-14 07:55:02  12.980518  77.512222   \n",
       "3      205457  150219191  2016-06-14 07:55:03  12.966298  77.606979   \n",
       "4      205458  150810425  2016-06-14 07:55:04  12.985648  77.664009   \n",
       "\n",
       "             real_time  \n",
       "0  2016-06-14 07:54:44  \n",
       "1  2016-06-14 07:54:54  \n",
       "2  2016-06-14 07:55:02  \n",
       "3  2016-06-14 07:55:03  \n",
       "4  2016-06-14 07:55:04  "
      ]
     },
     "execution_count": 85,
     "metadata": {},
     "output_type": "execute_result"
    }
   ],
   "source": [
    "all_data.head()"
   ]
  },
  {
   "cell_type": "code",
   "execution_count": 86,
   "metadata": {
    "collapsed": true
   },
   "outputs": [],
   "source": [
    "df = pd.DataFrame()"
   ]
  },
  {
   "cell_type": "code",
   "execution_count": 87,
   "metadata": {
    "collapsed": false
   },
   "outputs": [
    {
     "name": "stdout",
     "output_type": "stream",
     "text": [
      "0 1\n",
      "2 2\n",
      "4 3\n",
      "6 4\n",
      "8 5\n",
      "10 6\n",
      "12 7\n",
      "14 8\n",
      "16 9\n",
      "18 10\n",
      "20 11\n",
      "22 12\n",
      "24 13\n",
      "26 14\n",
      "28 15\n",
      "30 16\n",
      "32 17\n",
      "34 18\n",
      "36 19\n",
      "38 20\n"
     ]
    }
   ],
   "source": [
    "k=0\n",
    "for i in range(0,len(b_stops),2):\n",
    "    \n",
    "    s_lat = b_stops[i]['latlons'][0]\n",
    "    s_long = b_stops[i]['latlons'][1]\n",
    "    k+=1\n",
    "    print(i,k)\n",
    "    df=appenddata(s_lat,s_long,df,k,all_data)"
   ]
  },
  {
   "cell_type": "code",
   "execution_count": 88,
   "metadata": {
    "collapsed": true
   },
   "outputs": [],
   "source": [
    "#df.to_csv('sorted_by_bus_stop_50_meter')"
   ]
  },
  {
   "cell_type": "code",
   "execution_count": 89,
   "metadata": {
    "collapsed": false
   },
   "outputs": [],
   "source": [
    "df.sort_values(by=['device_id','date_time'],inplace=True)"
   ]
  },
  {
   "cell_type": "code",
   "execution_count": 90,
   "metadata": {
    "collapsed": false
   },
   "outputs": [],
   "source": [
    "df.to_csv(name+'sorted_by_device_id_time')"
   ]
  },
  {
   "cell_type": "code",
   "execution_count": 91,
   "metadata": {
    "collapsed": false
   },
   "outputs": [],
   "source": [
    "devices = df.device_id.unique()"
   ]
  },
  {
   "cell_type": "code",
   "execution_count": 92,
   "metadata": {
    "collapsed": true
   },
   "outputs": [],
   "source": [
    "d_mapping = {}\n",
    "i =1\n",
    "for d in devices:\n",
    "    d_mapping[d] = i\n",
    "    i= i+1"
   ]
  },
  {
   "cell_type": "code",
   "execution_count": 93,
   "metadata": {
    "collapsed": true
   },
   "outputs": [],
   "source": [
    "df.replace({'device_id': d_mapping} , inplace=True)"
   ]
  },
  {
   "cell_type": "code",
   "execution_count": 94,
   "metadata": {
    "collapsed": true
   },
   "outputs": [],
   "source": [
    "df.to_csv(name+'mapped devices')"
   ]
  },
  {
   "cell_type": "code",
   "execution_count": 95,
   "metadata": {
    "collapsed": false
   },
   "outputs": [],
   "source": [
    "#df['bus_stop'] =df['bus_stop'].astype(int)"
   ]
  },
  {
   "cell_type": "code",
   "execution_count": 97,
   "metadata": {
    "collapsed": false
   },
   "outputs": [
    {
     "data": {
      "text/plain": [
       "array([  1.50218048e+08,   1.50219191e+08,   1.50221473e+08,\n",
       "         1.50810425e+08])"
      ]
     },
     "execution_count": 97,
     "metadata": {},
     "output_type": "execute_result"
    }
   ],
   "source": [
    "devices"
   ]
  },
  {
   "cell_type": "code",
   "execution_count": 98,
   "metadata": {
    "collapsed": true
   },
   "outputs": [],
   "source": [
    "df['date_time'] = df['date_time'].astype('str').map(lambda x : x.split()[1])"
   ]
  },
  {
   "cell_type": "code",
   "execution_count": 99,
   "metadata": {
    "collapsed": true
   },
   "outputs": [],
   "source": [
    "df['real_time'] = df['date_time']"
   ]
  },
  {
   "cell_type": "code",
   "execution_count": 100,
   "metadata": {
    "collapsed": false
   },
   "outputs": [],
   "source": [
    "df['date_time'] = df['date_time'].map(lambda x : get_hour_min(x))"
   ]
  },
  {
   "cell_type": "code",
   "execution_count": 101,
   "metadata": {
    "collapsed": true
   },
   "outputs": [],
   "source": [
    "df = df[['bus_stop','device_id','date_time','real_time']]"
   ]
  },
  {
   "cell_type": "code",
   "execution_count": 102,
   "metadata": {
    "collapsed": false
   },
   "outputs": [
    {
     "data": {
      "text/html": [
       "<div>\n",
       "<table border=\"1\" class=\"dataframe\">\n",
       "  <thead>\n",
       "    <tr style=\"text-align: right;\">\n",
       "      <th></th>\n",
       "      <th>bus_stop</th>\n",
       "      <th>device_id</th>\n",
       "      <th>date_time</th>\n",
       "      <th>real_time</th>\n",
       "    </tr>\n",
       "  </thead>\n",
       "  <tbody>\n",
       "    <tr>\n",
       "      <th>377</th>\n",
       "      <td>6.0</td>\n",
       "      <td>1.0</td>\n",
       "      <td>490</td>\n",
       "      <td>08:10:31</td>\n",
       "    </tr>\n",
       "    <tr>\n",
       "      <th>381</th>\n",
       "      <td>6.0</td>\n",
       "      <td>1.0</td>\n",
       "      <td>490</td>\n",
       "      <td>08:10:41</td>\n",
       "    </tr>\n",
       "    <tr>\n",
       "      <th>385</th>\n",
       "      <td>6.0</td>\n",
       "      <td>1.0</td>\n",
       "      <td>490</td>\n",
       "      <td>08:10:51</td>\n",
       "    </tr>\n",
       "    <tr>\n",
       "      <th>417</th>\n",
       "      <td>7.0</td>\n",
       "      <td>1.0</td>\n",
       "      <td>492</td>\n",
       "      <td>08:12:10</td>\n",
       "    </tr>\n",
       "    <tr>\n",
       "      <th>421</th>\n",
       "      <td>7.0</td>\n",
       "      <td>1.0</td>\n",
       "      <td>492</td>\n",
       "      <td>08:12:20</td>\n",
       "    </tr>\n",
       "  </tbody>\n",
       "</table>\n",
       "</div>"
      ],
      "text/plain": [
       "     bus_stop  device_id  date_time real_time\n",
       "377       6.0        1.0        490  08:10:31\n",
       "381       6.0        1.0        490  08:10:41\n",
       "385       6.0        1.0        490  08:10:51\n",
       "417       7.0        1.0        492  08:12:10\n",
       "421       7.0        1.0        492  08:12:20"
      ]
     },
     "execution_count": 102,
     "metadata": {},
     "output_type": "execute_result"
    }
   ],
   "source": [
    "df.head()"
   ]
  },
  {
   "cell_type": "code",
   "execution_count": 103,
   "metadata": {
    "collapsed": false
   },
   "outputs": [],
   "source": [
    "unique_data = remove_duplicates(df)"
   ]
  },
  {
   "cell_type": "code",
   "execution_count": 104,
   "metadata": {
    "collapsed": false
   },
   "outputs": [],
   "source": [
    "#unique_data[unique_data['device_id']==2]"
   ]
  },
  {
   "cell_type": "code",
   "execution_count": 105,
   "metadata": {
    "collapsed": true
   },
   "outputs": [],
   "source": [
    "#unique_data.to_csv('sorted_by_device_id_time_removed_duplicates')"
   ]
  },
  {
   "cell_type": "code",
   "execution_count": 109,
   "metadata": {
    "collapsed": true
   },
   "outputs": [],
   "source": [
    "up_data,down_data = separate_dir(unique_data)"
   ]
  },
  {
   "cell_type": "code",
   "execution_count": 110,
   "metadata": {
    "collapsed": true
   },
   "outputs": [],
   "source": [
    "down_data.to_csv('down_data'+name)"
   ]
  },
  {
   "cell_type": "code",
   "execution_count": 111,
   "metadata": {
    "collapsed": true
   },
   "outputs": [],
   "source": [
    "up_data.to_csv('up_data'+name)"
   ]
  },
  {
   "cell_type": "code",
   "execution_count": 70,
   "metadata": {
    "collapsed": false
   },
   "outputs": [],
   "source": [
    "down_data = pd.read_csv('down_data'+name)"
   ]
  },
  {
   "cell_type": "code",
   "execution_count": 71,
   "metadata": {
    "collapsed": true
   },
   "outputs": [],
   "source": [
    "up_data = pd.read_csv('up_data'+name)"
   ]
  },
  {
   "cell_type": "code",
   "execution_count": 260,
   "metadata": {
    "collapsed": true
   },
   "outputs": [],
   "source": [
    "down_data['weekday']=0"
   ]
  },
  {
   "cell_type": "code",
   "execution_count": 261,
   "metadata": {
    "collapsed": true
   },
   "outputs": [],
   "source": [
    "down_data['route_id']=1"
   ]
  },
  {
   "cell_type": "code",
   "execution_count": 262,
   "metadata": {
    "collapsed": true
   },
   "outputs": [],
   "source": [
    "up_data['route_id']=1"
   ]
  },
  {
   "cell_type": "code",
   "execution_count": 263,
   "metadata": {
    "collapsed": true
   },
   "outputs": [],
   "source": [
    "up_data['weekday']=0"
   ]
  },
  {
   "cell_type": "code",
   "execution_count": 264,
   "metadata": {
    "collapsed": false
   },
   "outputs": [],
   "source": [
    "pairs = create_pair(up_data,True)"
   ]
  },
  {
   "cell_type": "code",
   "execution_count": 231,
   "metadata": {
    "collapsed": false
   },
   "outputs": [],
   "source": [
    "pairs.to_csv('pairs_up'+name)"
   ]
  },
  {
   "cell_type": "code",
   "execution_count": 415,
   "metadata": {
    "collapsed": false
   },
   "outputs": [],
   "source": [
    "#headway_down_data = down_data.sort_values(by=['bus_stop','date_time'])"
   ]
  },
  {
   "cell_type": "code",
   "execution_count": 417,
   "metadata": {
    "collapsed": false
   },
   "outputs": [],
   "source": [
    "#headway_down_data.to_csv('headway_down_data')"
   ]
  },
  {
   "cell_type": "code",
   "execution_count": 421,
   "metadata": {
    "collapsed": false
   },
   "outputs": [],
   "source": [
    "def create_headway(df):\n",
    "    headway_pair = pd.DataFrame()\n",
    "    for i in range(df.shape[0]-1):\n",
    "        row = df.iloc[i]\n",
    "        next_row = df.iloc[i+1]\n",
    "        if(row['bus_stop']==next_row['bus_stop']):\n",
    "            record = pd.Series({'bus_stop':row['bus_stop'],'bus_1':row['device_id'],'bus2':next_row['device_id'],'headway':next_row['date_time']-row['date_time']})\n",
    "            headway_pair = headway_pair.append(record,ignore_index=True)\n",
    "        else:\n",
    "            continue\n",
    "    return headway_pair   \n",
    "    "
   ]
  },
  {
   "cell_type": "code",
   "execution_count": 422,
   "metadata": {
    "collapsed": false
   },
   "outputs": [],
   "source": [
    "#headway_pair = create_headway(headway_down_data)"
   ]
  },
  {
   "cell_type": "code",
   "execution_count": 1,
   "metadata": {
    "collapsed": false
   },
   "outputs": [],
   "source": [
    "#headway_pair"
   ]
  },
  {
   "cell_type": "code",
   "execution_count": 1,
   "metadata": {
    "collapsed": true
   },
   "outputs": [],
   "source": [
    "i =0"
   ]
  },
  {
   "cell_type": "code",
   "execution_count": null,
   "metadata": {
    "collapsed": true
   },
   "outputs": [],
   "source": []
  }
 ],
 "metadata": {
  "kernelspec": {
   "display_name": "Python 3",
   "language": "python",
   "name": "python3"
  },
  "language_info": {
   "codemirror_mode": {
    "name": "ipython",
    "version": 3
   },
   "file_extension": ".py",
   "mimetype": "text/x-python",
   "name": "python",
   "nbconvert_exporter": "python",
   "pygments_lexer": "ipython3",
   "version": "3.5.2"
  }
 },
 "nbformat": 4,
 "nbformat_minor": 2
}
