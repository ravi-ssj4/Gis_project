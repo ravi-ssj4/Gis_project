{
 "cells": [
  {
   "cell_type": "code",
   "execution_count": 54,
   "metadata": {},
   "outputs": [],
   "source": [
    "# by shubham import all libraries \n",
    "\n",
    "# Data manipultaion and visualization \n",
    "\n",
    "import pandas as pd\n",
    "import numpy as np\n",
    "import matplotlib as mpl\n",
    "import matplotlib.pyplot as plt\n",
    "import math as m\n",
    "\n",
    "# Here Ml libraries are imported \n",
    "\n",
    "# type of (macors)  to set various option  \n",
    "pd.set_option('display.notebook_repr_html', False)\n",
    "pd.set_option('display.max_columns', None)\n",
    "pd.set_option('display.max_rows', 150)\n",
    "pd.set_option('display.max_seq_items', None)\n",
    " \n",
    "#%config InlineBackend.figure_formats = {'pdf',}\n",
    "%matplotlib inline\n",
    "\n",
    "# for effctive visualiztion \n",
    "import seaborn as sns\n",
    "sns.set_context('notebook')\n",
    "sns.set_style('white')"
   ]
  },
  {
   "cell_type": "code",
   "execution_count": 55,
   "metadata": {},
   "outputs": [],
   "source": [
    "data=pd.read_csv('sample gps data with few columns.csv')"
   ]
  },
  {
   "cell_type": "code",
   "execution_count": null,
   "metadata": {},
   "outputs": [],
   "source": []
  },
  {
   "cell_type": "code",
   "execution_count": 60,
   "metadata": {},
   "outputs": [
    {
     "data": {
      "text/plain": [
       "Index(['device_id', 'data_status', 'lat', 'lng', 'speed_kmph', 'ist_date',\n",
       "       'Dates', 'Time'],\n",
       "      dtype='object')"
      ]
     },
     "execution_count": 60,
     "metadata": {},
     "output_type": "execute_result"
    }
   ],
   "source": [
    "#data.drop(['data_status','vehicle_direction'],axis=1)\n",
    "#date,time =data['ist_date'].split()\n",
    "data['Dates'] = pd.to_datetime(data['ist_date']).dt.date\n",
    "data['Time'] = pd.to_datetime(data['ist_date']).dt.time\n",
    "data.columns\n"
   ]
  },
  {
   "cell_type": "code",
   "execution_count": 132,
   "metadata": {},
   "outputs": [
    {
     "data": {
      "text/plain": [
       "          Time  speed_kmph\n",
       "13    01:16:00           0\n",
       "14    01:16:00           0\n",
       "15    01:16:00           0\n",
       "16    01:16:00           0\n",
       "17    01:16:00           0\n",
       "18    01:16:00           0\n",
       "19    01:17:00           0\n",
       "20    01:17:00           0\n",
       "21    01:17:00           0\n",
       "22    01:17:00           0\n",
       "23    01:17:00           0\n",
       "24    01:17:00           0\n",
       "25    01:18:00           0\n",
       "26    01:18:00           0\n",
       "27    01:18:00           0\n",
       "28    01:18:00           0\n",
       "29    01:18:00           0\n",
       "30    01:18:00           0\n",
       "31    01:19:00           0\n",
       "32    01:19:00           0\n",
       "33    01:19:00           0\n",
       "34    01:19:00           0\n",
       "35    01:19:00           0\n",
       "36    01:19:00           0\n",
       "37    01:20:00           0\n",
       "38    01:20:00           0\n",
       "39    01:20:00           0\n",
       "40    01:20:00           0\n",
       "41    01:20:00           0\n",
       "42    01:20:00           0\n",
       "43    01:21:00           0\n",
       "44    01:21:00           0\n",
       "45    01:21:00           0\n",
       "46    01:21:00           0\n",
       "47    01:21:00           0\n",
       "48    01:21:00           6\n",
       "49    01:22:00           0\n",
       "50    01:22:00           0\n",
       "51    01:22:00           0\n",
       "52    01:22:00           0\n",
       "53    01:22:00           0\n",
       "54    01:22:00           0\n",
       "55    01:23:00           0\n",
       "56    01:23:00           0\n",
       "57    01:23:00           0\n",
       "58    01:23:00           0\n",
       "59    01:23:00           0\n",
       "60    01:23:00           0\n",
       "61    01:23:00           0\n",
       "62    01:24:00           0\n",
       "63    01:24:00           6\n",
       "64    01:24:00           6\n",
       "65    01:24:00           5\n",
       "66    01:24:00           0\n",
       "67    01:24:00           0\n",
       "68    01:25:00           0\n",
       "69    01:25:00           0\n",
       "70    01:25:00           0\n",
       "71    01:25:00           0\n",
       "72    01:25:00           0\n",
       "73    01:25:00           0\n",
       "74    01:26:00           0\n",
       "75    01:26:00           0\n",
       "76    01:26:00           0\n",
       "77    01:26:00           0\n",
       "78    01:26:00           0\n",
       "79    01:26:00           0\n",
       "80    01:27:00           0\n",
       "81    01:27:00           0\n",
       "82    01:27:00           0\n",
       "83    01:27:00           0\n",
       "84    01:27:00           0\n",
       "85    01:27:00           0\n",
       "86    01:28:00           0\n",
       "87    01:28:00           0\n",
       "...        ...         ...\n",
       "4187  15:06:00           0\n",
       "4188  15:06:00          24\n",
       "4189  15:06:00          12\n",
       "4190  15:06:00          33\n",
       "4191  15:06:00          46\n",
       "4192  15:06:00          55\n",
       "4193  15:07:00          56\n",
       "4194  15:07:00          58\n",
       "4195  15:07:00          53\n",
       "4196  15:07:00           0\n",
       "4197  15:07:00          18\n",
       "4198  15:07:00          36\n",
       "4199  15:08:00          56\n",
       "4200  15:08:00          58\n",
       "4201  15:08:00          57\n",
       "4202  15:08:00          49\n",
       "4203  15:08:00           0\n",
       "4204  15:08:00          16\n",
       "4205  15:09:00          34\n",
       "4206  15:09:00          47\n",
       "4207  15:09:00          51\n",
       "4208  15:09:00          50\n",
       "4209  15:09:00          51\n",
       "4210  15:09:00          53\n",
       "4211  15:10:00          53\n",
       "4212  15:10:00          41\n",
       "4213  15:10:00          45\n",
       "4214  15:10:00          52\n",
       "4215  15:10:00          53\n",
       "4216  15:10:00          54\n",
       "4217  15:11:00          40\n",
       "4218  15:11:00          41\n",
       "4219  15:11:00          46\n",
       "4220  15:11:00          41\n",
       "4221  15:11:00          13\n",
       "4222  15:11:00          10\n",
       "4223  15:12:00           0\n",
       "4224  15:12:00           0\n",
       "4225  15:12:00           0\n",
       "4226  15:12:00          14\n",
       "4227  15:12:00           0\n",
       "4228  15:12:00          19\n",
       "4229  15:13:00          27\n",
       "4230  15:13:00          35\n",
       "4231  15:13:00          39\n",
       "4232  15:13:00          40\n",
       "4233  15:13:00          42\n",
       "4234  15:13:00          40\n",
       "4235  15:14:00           8\n",
       "4236  15:14:00          24\n",
       "4237  15:14:00          36\n",
       "4238  15:14:00          33\n",
       "4239  15:14:00          43\n",
       "4240  15:14:00          46\n",
       "4241  15:15:00          34\n",
       "4242  15:15:00           0\n",
       "4243  15:15:00          21\n",
       "4244  15:15:00          33\n",
       "4245  15:15:00          43\n",
       "4246  15:15:00          47\n",
       "4247  15:16:00          44\n",
       "4248  15:16:00          50\n",
       "4249  15:16:00          55\n",
       "4250  15:16:00          57\n",
       "4251  15:16:00          55\n",
       "4252  15:16:00          54\n",
       "4253  15:17:00          56\n",
       "4254  15:17:00          58\n",
       "4255  15:17:00          56\n",
       "4256  15:17:00          57\n",
       "4257  15:17:00          50\n",
       "4258  15:17:00          39\n",
       "4259  15:18:00          26\n",
       "4260  15:18:00           0\n",
       "4261  15:18:00          11\n",
       "\n",
       "[4249 rows x 2 columns]"
      ]
     },
     "execution_count": 132,
     "metadata": {},
     "output_type": "execute_result"
    }
   ],
   "source": [
    "# here specific feild selected \n",
    "#data.drop['0','1']\n",
    "# top three has diffent from every 10 sec data \n",
    "# i.e. drop these row\n",
    "#data=data.iloc[6:] \n",
    "data[['Time','speed_kmph']]"
   ]
  },
  {
   "cell_type": "code",
   "execution_count": 139,
   "metadata": {},
   "outputs": [],
   "source": [
    "data1 = (data.groupby(['Dates','Time'], as_index=False).mean().groupby('Time')['speed_kmph'].mean()).reset_index()\n"
   ]
  },
  {
   "cell_type": "code",
   "execution_count": 159,
   "metadata": {},
   "outputs": [
    {
     "data": {
      "text/plain": [
       "<matplotlib.figure.Figure at 0x7f6d8116a588>"
      ]
     },
     "execution_count": 159,
     "metadata": {},
     "output_type": "execute_result"
    },
    {
     "data": {
      "image/png": "[encoded data removed]",
      "text/plain": [
       "<matplotlib.figure.Figure at 0x7f6d8116a710>"
      ]
     },
     "metadata": {},
     "output_type": "display_data"
    },
    {
     "data": {
      "text/plain": [
       "<matplotlib.figure.Figure at 0x7f6d8116a588>"
      ]
     },
     "metadata": {},
     "output_type": "display_data"
    }
   ],
   "source": [
    "# data is in proper format \n",
    "#data[['speed_kmph','Dates','Time']]\n",
    "#(data.groupby(['Time'])).mean()\n",
    "plt.plot(data1['Time'],data1['speed_kmph'],'bo')\n",
    "plt.ylabel('Speed_range')\n",
    "plt.xlabel('Time_with_ONE_SEC')\n",
    "plt.figure(figsize=(210,1000))"
   ]
  },
  {
   "cell_type": "code",
   "execution_count": null,
   "metadata": {},
   "outputs": [],
   "source": []
  },
  {
   "cell_type": "code",
   "execution_count": null,
   "metadata": {},
   "outputs": [],
   "source": []
  }
 ],
 "metadata": {
  "kernelspec": {
   "display_name": "Python 3",
   "language": "python",
   "name": "python3"
  },
  "language_info": {
   "codemirror_mode": {
    "name": "ipython",
    "version": 3
   },
   "file_extension": ".py",
   "mimetype": "text/x-python",
   "name": "python",
   "nbconvert_exporter": "python",
   "pygments_lexer": "ipython3",
   "version": "3.6.3"
  }
 },
 "nbformat": 4,
 "nbformat_minor": 2
}
